{
 "cells": [
  {
   "cell_type": "code",
   "execution_count": null,
   "metadata": {},
   "outputs": [],
   "source": [
    "%matplotlib inline\n",
    "import matplotlib as mpl\n",
    "import matplotlib.pyplot as plt\n",
    "from typing import Union\n",
    "\n",
    "import numpy as np\n",
    "import pandas as pd\n",
    "\n",
    "\n",
    "def gaussian_weight(\n",
    "    age: Union[float, pd.Series, np.ndarray],\n",
    "    mean: float,\n",
    "    sigma: float,\n",
    "    epsilon: float = 0.01\n",
    "):\n",
    "    \"\"\"Calculate Gaussian kernel weight for brain scan observed at specified age.\"\"\"\n",
    "    w = np.exp(- 0.5 * np.power((age - mean) / sigma, 2))\n",
    "    w /= sigma * np.sqrt(2.0 * np.pi)\n",
    "    w[w < epsilon] = 0.0\n",
    "    return w\n",
    "\n",
    "\n",
    "def plot_age_at_scan_difference(ax, data: pd.DataFrame, mean: float, sigma: float, epsilon: float = 0.01):\n",
    "    \"\"\"Plot distribution of time-to-scan for samples with non-zero weight in given temporal kernel support region.\"\"\"\n",
    "    df = data[gaussian_weight(age=data.scan_age, mean=mean, sigma=sigma, epsilon=epsilon) > 0]\n",
    "    (df.scan_age - mean).hist(ax=ax, bins=np.arange(-5, 5.01, 0.25))\n",
    "    ax.set_title(\"mean={:.0f}, sigma={:.2f}, N={:d}\".format(mean, sigma, len(df)))\n",
    "    ax.set_xticks(np.arange(-4, 4.01, 1))"
   ]
  },
  {
   "cell_type": "code",
   "execution_count": null,
   "metadata": {},
   "outputs": [],
   "source": [
    "participants = pd.read_csv(\"participants.tsv\", sep=\"\\t\")\n",
    "participants.rename(columns={\"age_at_scan\": \"scan_age\", \"birth_ga\": \"birth_age\"}, inplace=True)\n",
    "participants[\"time_to_scan\"] = participants.scan_age - participants.birth_age\n",
    "participants.sort_values(by=[\"participant_id\", \"session_id\", \"time_to_scan\", \"scan_age\"], inplace=True)\n",
    "participants.head()"
   ]
  },
  {
   "cell_type": "code",
   "execution_count": null,
   "metadata": {},
   "outputs": [],
   "source": [
    "neonatal_scans = participants[(participants.time_to_scan >= 0.0)]\n",
    "selected_scans = neonatal_scans[(neonatal_scans.time_to_scan < 4.0) & ((neonatal_scans.score < 1) | (neonatal_scans.score > 2))]\n",
    "\n",
    "subjects = participants.drop_duplicates(subset=\"participant_id\", keep=\"first\")\n",
    "neonates = neonatal_scans.drop_duplicates(subset=\"participant_id\", keep=\"first\")\n",
    "selected = selected_scans.drop_duplicates(subset=\"participant_id\", keep=\"first\")\n",
    "\n",
    "print(\"No. of brain scans:    {:3d} ({:3d} subjects)\".format(len(participants), len(subjects)))\n",
    "print(\"No. of neonatal scans: {:3d} ({:3d} subjects)\".format(len(neonatal_scans), len(neonates)))\n",
    "print(\"No. of selected scans: {:3d} ({:3d} subjects)\".format(len(selected_scans), len(selected)))\n",
    "print()\n",
    "print(\"Minimum neonatal brain age at scan: {}\".format(neonates.scan_age.min()))\n",
    "print(\"Maximum neonatal brain age at scan: {}\".format(neonates.scan_age.max()))\n",
    "print()\n",
    "print(\"Minimum selected brain age at scan: {}\".format(selected.scan_age.min()))\n",
    "print(\"Maximum selected brain age at scan: {}\".format(selected.scan_age.max()))\n",
    "\n",
    "gender_counts = dict(neonates.gender.value_counts())\n",
    "print()\n",
    "print(\"No. of selected male scans:   {:3d}\".format(gender_counts[\"Male\"]))\n",
    "print(\"No. of selected female scans: {:3d}\".format(gender_counts[\"Female\"]))\n",
    "\n",
    "print()\n",
    "for cnt, wk in zip(*np.histogram(selected.scan_age, bins=np.arange(26.0, 45.0))):\n",
    "    print(\"Week {:2.0f}: {:2d} selected scans\".format(wk, cnt))\n",
    "\n",
    "print()\n",
    "for wk in [30, 31, 32, 33, 34, 35, 36]:\n",
    "    m = len(neonates[(neonates.scan_age <= wk)])\n",
    "    n = len(selected[(selected.scan_age <= wk)])\n",
    "    print(\"No. of brain scans before week {}: {} ({} selected)\".format(wk, m, n))"
   ]
  },
  {
   "cell_type": "code",
   "execution_count": null,
   "metadata": {},
   "outputs": [],
   "source": [
    "selected.scan_age.hist(bins=np.arange(26.0, 45.5, 0.05), figsize=(20, 6));"
   ]
  },
  {
   "cell_type": "code",
   "execution_count": null,
   "metadata": {},
   "outputs": [],
   "source": [
    "fig, axes = plt.subplots(nrows=1, ncols=2, figsize=(20, 4), sharex=True, sharey=True)\n",
    "for ax, df in zip(axes.flat, [neonates, selected]):\n",
    "    df.scan_age.hist(ax=ax, bins=np.arange(26.0, 36.5, 0.1))\n",
    "fig;"
   ]
  },
  {
   "cell_type": "markdown",
   "metadata": {},
   "source": [
    "# Subsample term scans"
   ]
  },
  {
   "cell_type": "code",
   "execution_count": null,
   "metadata": {},
   "outputs": [],
   "source": [
    "df = selected\n",
    "\n",
    "delta = 0.1\n",
    "n_samples = 20\n",
    "\n",
    "prng = np.random.RandomState(seed=0)\n",
    "for t in np.arange(df.scan_age.min(), df.scan_age.max() + 0.001, delta):\n",
    "    a = df[(df.scan_age - t).abs() < delta]\n",
    "    if len(a):\n",
    "        b = a.sample(n=n_samples, random_state=prng, replace=True)\n",
    "        df = df[df.participant_id.isin(b.participant_id) | ~df.participant_id.isin(a.participant_id)]\n",
    "\n",
    "dataset = df\n",
    "\n",
    "print(\"No. of remaining brain scans:\", len(dataset))"
   ]
  },
  {
   "cell_type": "code",
   "execution_count": null,
   "metadata": {},
   "outputs": [],
   "source": [
    "fig, axes = plt.subplots(1, 2, figsize=(20, 6), sharex=True, sharey=True)\n",
    "selected.scan_age.hist(ax=axes[0], bins=np.arange(26.0, 45.5, 0.1))\n",
    "dataset.scan_age.hist(ax=axes[1], bins=np.arange(26.0, 45.5, 0.1));"
   ]
  },
  {
   "cell_type": "code",
   "execution_count": null,
   "metadata": {},
   "outputs": [],
   "source": [
    "df = pd.DataFrame(data={\"subject_id\": neonates.participant_id + \"-\" + neonates.session_id.astype(str), \"age\": neonates.scan_age})\n",
    "df.to_csv(\"ages.csv\", index=False, header=False)\n",
    "\n",
    "df = pd.DataFrame(data={\"subject_id\": dataset.participant_id + \"-\" + dataset.session_id.astype(str)})\n",
    "df.to_csv(\"subjects.lst\", index=False, header=False)"
   ]
  },
  {
   "cell_type": "markdown",
   "metadata": {},
   "source": [
    "# Find adaptive kernel widths"
   ]
  },
  {
   "cell_type": "code",
   "execution_count": null,
   "metadata": {},
   "outputs": [],
   "source": [
    "means = np.arange(29.0, 45.0, 1.0)"
   ]
  },
  {
   "cell_type": "markdown",
   "metadata": {},
   "source": [
    "Determine median number of subjects per time point given target `sigma` value."
   ]
  },
  {
   "cell_type": "code",
   "execution_count": null,
   "metadata": {},
   "outputs": [],
   "source": [
    "counts = {}\n",
    "median = {}\n",
    "sigmas = [0.5, 0.75, 1.0, 1.25, 1.5, 1.75, 2.0]\n",
    "for sigma in sigmas:\n",
    "    n_nonzero_weights = []\n",
    "    for mean in means:\n",
    "        weights = gaussian_weight(dataset.scan_age, mean, sigma)\n",
    "        n_nonzero_weights.append(np.count_nonzero(weights))\n",
    "    counts[sigma] = np.array(n_nonzero_weights).astype(int)\n",
    "    median[sigma] = np.median(counts[sigma]).astype(int)\n",
    "    print(\"constant sigma: {:3.2f}, counts: {}, median: {:3d}\".format(sigma, counts[sigma], median[sigma]))"
   ]
  },
  {
   "cell_type": "code",
   "execution_count": null,
   "metadata": {},
   "outputs": [],
   "source": [
    "fig, ax = plt.subplots(1, 1, figsize=(18, 6))\n",
    "\n",
    "xmin = means[0] - 1\n",
    "xmax = means[-1] + 1\n",
    "\n",
    "sigmas = [0.5, 1.0, 1.5, 2.0]\n",
    "for sigma in sigmas:\n",
    "    ax.scatter(means, counts[sigma], label=\"sigma={:0.2f}\".format(sigma))\n",
    "    ax.plot([xmin, xmax], [median[sigma]] * 2)\n",
    "\n",
    "ax.plot([xmin, xmax], [20] * 2, color='lightgray')\n",
    "\n",
    "ax.set_xlim([xmin, xmax])\n",
    "ax.set_xticks(means)\n",
    "ax.set_xlabel(\"atlas time point [PMA]\")\n",
    "\n",
    "ax.set_yticks([20] + [median[sigma] for sigma in sigmas])\n",
    "ax.set_ylabel(\"images with non-zero weight [N]\")\n",
    "\n",
    "ax.legend(loc=\"upper left\")\n",
    "\n",
    "#fig.savefig(\"/Users/aschuh/Desktop/dhcp_atlas_no_images_for_varying_constant_sigma_values.png\")\n",
    "\n",
    "fig;"
   ]
  },
  {
   "cell_type": "code",
   "execution_count": null,
   "metadata": {},
   "outputs": [],
   "source": [
    "target_sigma = 1.0\n",
    "target_count = 100\n",
    "\n",
    "step_size = 0.01\n",
    "min_sigma = 0.2\n",
    "max_sigma = 1.5\n",
    "\n",
    "\n",
    "def count_nonzero_weights(dataset, means, sigmas):\n",
    "    nz = []\n",
    "    for mean, sigma in zip(means, sigmas):\n",
    "        weights = gaussian_weight(dataset.scan_age, mean, sigma)\n",
    "        nz.append(np.count_nonzero(weights))\n",
    "    return np.array(nz).astype(int)\n",
    "\n",
    "\n",
    "sigmas = np.array([target_sigma] * len(means))\n",
    "for _ in range(100):\n",
    "    nz = count_nonzero_weights(dataset, means, sigmas)\n",
    "    sigmas[nz < 0.98 * target_count] += step_size\n",
    "    sigmas[nz > 1.02 * target_count] -= step_size\n",
    "\n",
    "nz = count_nonzero_weights(dataset, means, sigmas)\n",
    "sigmas[nz < 0.98 * target_count] += step_size\n",
    "\n",
    "sigmas = np.clip(sigmas, min_sigma, max_sigma)\n",
    "nz = count_nonzero_weights(dataset, means, sigmas)"
   ]
  },
  {
   "cell_type": "code",
   "execution_count": null,
   "metadata": {},
   "outputs": [],
   "source": [
    "fig, ax = plt.subplots(1, 1, figsize=(18, 6))\n",
    "\n",
    "xmin = means[0] - 1\n",
    "xmax = means[-1] + 1\n",
    "\n",
    "median_count = np.median(nz)\n",
    "\n",
    "ax.scatter(means, nz)\n",
    "#ax.plot([xmin, xmax], [median_count] * 2)\n",
    "\n",
    "yticks = list(range(50, 310, 50))\n",
    "for n in yticks:\n",
    "    ax.plot([xmin, xmax], [n, n], color='lightgray')\n",
    "\n",
    "ax.set_xlim([xmin, xmax])\n",
    "ax.set_xticks(means)\n",
    "ax.set_xlabel(\"atlas time point [PMA]\")\n",
    "\n",
    "ax.set_ylim([0, 300])\n",
    "ax.set_yticks(yticks)\n",
    "ax.set_ylabel(\"images with non-zero weight [N]\")\n",
    "\n",
    "#fig.savefig(\"/Users/aschuh/Desktop/dhcp_atlas_no_images_for_adaptive_sigma_values_target_count_100_maxsigma_2.png\")\n",
    "\n",
    "fig;"
   ]
  },
  {
   "cell_type": "code",
   "execution_count": null,
   "metadata": {},
   "outputs": [],
   "source": [
    "fig, axes = plt.subplots(4, 4, figsize=(20, 12), sharex=True, sharey=True)\n",
    "\n",
    "for i, (mean, sigma) in enumerate(zip(means, sigmas)):\n",
    "    plot_age_at_scan_difference(axes.flat[i], data=dataset, mean=mean, sigma=sigma)\n",
    "\n",
    "for ax in axes[-1,:]:\n",
    "    ax.set_xlabel(\"age at scan offset [PMA]\", labelpad=8)\n",
    "for ax in axes[:,0]:\n",
    "    ax.set_ylabel(\"no. of brain scans [N]\", labelpad=10)"
   ]
  },
  {
   "cell_type": "code",
   "execution_count": null,
   "metadata": {},
   "outputs": [],
   "source": [
    "import os\n",
    "\n",
    "os.makedirs(\"weights\", exist_ok=True)\n",
    "\n",
    "df = pd.DataFrame(data={\n",
    "    \"t\": [\"{:.0f}\".format(mean) for mean in means],\n",
    "    \"sigma\": [\"{:.2f}\".format(sigma) for sigma in sigmas]\n",
    "})\n",
    "df.to_csv(\"weights/sigmas.csv\", index=False)\n",
    "\n",
    "for mean, sigma in zip(means, sigmas):\n",
    "    weights = gaussian_weight(dataset.scan_age, mean, sigma)\n",
    "    df = pd.DataFrame(data={\n",
    "        \"subject_id\": dataset.participant_id + \"-\" + dataset.session_id.astype(str),\n",
    "        \"weight\": weights\n",
    "    })\n",
    "    df= df[df.weight > 0].sort_values(by=\"weight\", ascending=False)\n",
    "    df.to_csv(\"weights/t{:.0f}.tsv\".format(mean), index=False, header=False, sep=\"\\t\")"
   ]
  },
  {
   "cell_type": "code",
   "execution_count": null,
   "metadata": {},
   "outputs": [],
   "source": []
  }
 ],
 "metadata": {
  "kernelspec": {
   "display_name": "Python 3",
   "language": "python",
   "name": "python3"
  },
  "language_info": {
   "codemirror_mode": {
    "name": "ipython",
    "version": 3
   },
   "file_extension": ".py",
   "mimetype": "text/x-python",
   "name": "python",
   "nbconvert_exporter": "python",
   "pygments_lexer": "ipython3",
   "version": "3.7.5"
  }
 },
 "nbformat": 4,
 "nbformat_minor": 4
}
